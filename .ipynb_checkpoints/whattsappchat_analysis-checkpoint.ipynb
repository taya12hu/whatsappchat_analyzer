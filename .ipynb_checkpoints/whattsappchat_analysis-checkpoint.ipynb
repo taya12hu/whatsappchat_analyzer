{
 "cells": [
  {
   "cell_type": "code",
   "execution_count": 6,
   "id": "149ba6a4-aa02-468b-ba67-8a45af6f102d",
   "metadata": {},
   "outputs": [
    {
     "name": "stdout",
     "output_type": "stream",
     "text": [
      "       Date   Time      Sender                     Message\n",
      "0  26/07/24  10:10       Tanya    You deleted this message\n",
      "1  26/07/24  11:16  Riya Bitsp                     Kya hua\n",
      "2  26/07/24  11:19       Tanya               Kuch nhi lite\n",
      "3  26/07/24  11:19  Riya Bitsp  Test ka puch rahi thu koya\n",
      "4  26/07/24  11:20       Tanya  Oh hn Aaj toh test bhi hai\n"
     ]
    }
   ],
   "source": [
    "import pandas as pd\n",
    "import re\n",
    "\n",
    "# Read the chat file\n",
    "with open('WhatsApp Chat with Riya Bitsp.txt', 'r', encoding='utf-8') as file:\n",
    "    lines = file.readlines()\n",
    "\n",
    "# Define regex to parse each line\n",
    "pattern = r'(\\d{2}/\\d{2}/\\d{2}), (\\d{2}:\\d{2}) - (.*?): (.*)'\n",
    "\n",
    "# Parse lines into lists\n",
    "data = [re.match(pattern, line).groups() for line in lines if re.match(pattern, line)]\n",
    "\n",
    "# Convert to DataFrame\n",
    "df = pd.DataFrame(data, columns=['Date', 'Time', 'Sender', 'Message'])\n",
    "\n",
    "# Display the DataFrame\n",
    "print(df.head())\n"
   ]
  },
  {
   "cell_type": "code",
   "execution_count": 7,
   "id": "78ceb333-74c6-465e-a09f-9ad744973dd6",
   "metadata": {},
   "outputs": [
    {
     "ename": "TypeError",
     "evalue": "'tuple' object is not callable",
     "output_type": "error",
     "traceback": [
      "\u001b[1;31m---------------------------------------------------------------------------\u001b[0m",
      "\u001b[1;31mTypeError\u001b[0m                                 Traceback (most recent call last)",
      "Cell \u001b[1;32mIn[7], line 1\u001b[0m\n\u001b[1;32m----> 1\u001b[0m \u001b[43mdf\u001b[49m\u001b[38;5;241;43m.\u001b[39;49m\u001b[43mshape\u001b[49m\u001b[43m(\u001b[49m\u001b[43m)\u001b[49m\n",
      "\u001b[1;31mTypeError\u001b[0m: 'tuple' object is not callable"
     ]
    }
   ],
   "source": [
    "df.shape"
   ]
  },
  {
   "cell_type": "code",
   "execution_count": null,
   "id": "d82e5184-a9d4-4eb9-be4a-78c85d9cb284",
   "metadata": {},
   "outputs": [],
   "source": []
  }
 ],
 "metadata": {
  "kernelspec": {
   "display_name": "Python 3 (ipykernel)",
   "language": "python",
   "name": "python3"
  },
  "language_info": {
   "codemirror_mode": {
    "name": "ipython",
    "version": 3
   },
   "file_extension": ".py",
   "mimetype": "text/x-python",
   "name": "python",
   "nbconvert_exporter": "python",
   "pygments_lexer": "ipython3",
   "version": "3.12.4"
  },
  "widgets": {
   "application/vnd.jupyter.widget-state+json": {
    "state": {},
    "version_major": 2,
    "version_minor": 0
   }
  }
 },
 "nbformat": 4,
 "nbformat_minor": 5
}
